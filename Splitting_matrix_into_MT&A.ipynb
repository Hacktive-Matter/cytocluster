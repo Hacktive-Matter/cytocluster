{
 "cells": [
  {
   "cell_type": "code",
   "execution_count": null,
   "id": "135e5080",
   "metadata": {},
   "outputs": [],
   "source": [
    "import pandas as pd\n",
    "\n",
    "# === load the CSV file / \"matrix\" ===\n",
    "input_csv = '/Users/katarinamatic/Desktop/BARCODE_Higher_filament_930am.csv'\n",
    "df = pd.read_csv(input_csv)\n",
    "\n",
    "# === make sure we have expected # of columns ===\n",
    "assert df.shape[1] == 20, f\"expected 20 columns, found {df.shape[1]}\"\n",
    "\n",
    "# === assume first column (video/file name) contains filenames with 'C=MT' or 'C=A' ===\n",
    "filename_col = df.columns[0]\n",
    "\n",
    "# === filter by whether 'C=MT' or 'C=A' is in the filename ===\n",
    "df_mt = df[df[filename_col].str.contains(\"C=MT\", regex=False)].copy()\n",
    "df_a  = df[df[filename_col].str.contains(\"C=A\", regex=False)].copy()\n",
    "\n",
    "# === save all three ===\n",
    "df.to_csv('matrix_ALL_only_Higher_filament_930am.csv', index=False) # original CSV with MT + A\n",
    "df_mt.to_csv('matrix_MT_only_Higher_filament_930am.csv', index=False) # CSV with MT only\n",
    "df_a.to_csv('matrix_A_only_Higher_filament_930am.csv', index=False) # CSV with A only"
   ]
  }
 ],
 "metadata": {
  "kernelspec": {
   "display_name": "Python 3 (ipykernel)",
   "language": "python",
   "name": "python3"
  },
  "language_info": {
   "codemirror_mode": {
    "name": "ipython",
    "version": 3
   },
   "file_extension": ".py",
   "mimetype": "text/x-python",
   "name": "python",
   "nbconvert_exporter": "python",
   "pygments_lexer": "ipython3",
   "version": "3.10.9"
  }
 },
 "nbformat": 4,
 "nbformat_minor": 5
}
