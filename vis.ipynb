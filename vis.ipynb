{
 "cells": [
  {
   "cell_type": "code",
   "execution_count": null,
   "id": "04f65f08",
   "metadata": {},
   "outputs": [],
   "source": [
    "from data import get_data, exclude_columns\n",
    "import matplotlib.pyplot as plt\n",
    "import numpy as np\n"
   ]
  },
  {
   "cell_type": "code",
   "execution_count": 4,
   "id": "e0469e97",
   "metadata": {},
   "outputs": [
    {
     "name": "stdout",
     "output_type": "stream",
     "text": [
      "Index(['Filename', 'Channel', 'Flags', 'Connectivity', 'Maximum Island Area',\n",
      "       'Maximum Void Area', 'Island Area Change', 'Void Area Change',\n",
      "       'Initial Maximum Island Area', 'Initial 2nd Maximum Island Area',\n",
      "       'Maximum Kurtosis', 'Maximum Median Skewness', 'Maximum Mode Skewness',\n",
      "       'Kurtosis Change', 'Median Skewness Change', 'Mode Skewness Change',\n",
      "       'Mean Speed', 'Speed Change', 'Mean Flow Direction',\n",
      "       'Flow Directional Spread', 'stab_conc_uM', 'stab_name', 'mt_conc_uM',\n",
      "       'actin_conc_uM', 'channel', 'trial', 'time_PT', 'spatial_x',\n",
      "       'spatial_y'],\n",
      "      dtype='object')\n"
     ]
    },
    {
     "data": {
      "text/plain": [
       "array([5.0e+00, 5.0e-01, 1.0e+00, 2.5e+03, 2.5e+00, 5.0e+02, 1.0e+03,\n",
       "       2.0e+03])"
      ]
     },
     "execution_count": 4,
     "metadata": {},
     "output_type": "execute_result"
    }
   ],
   "source": [
    "df, X = get_data()\n",
    "print(df.keys())\n",
    "df[\"stab_conc_uM\"].unique()"
   ]
  },
  {
   "cell_type": "code",
   "execution_count": 10,
   "id": "f13c0a59",
   "metadata": {},
   "outputs": [
    {
     "name": "stdout",
     "output_type": "stream",
     "text": [
      "[5.0e+00 5.0e-01 1.0e+00 2.5e+03 2.5e+00 5.0e+02 1.0e+03 2.0e+03]\n",
      "['TX' 'GMP']\n",
      "[3.19]\n",
      "[2.62]\n",
      "[6 1 2 3 4 5]\n"
     ]
    }
   ],
   "source": [
    "print(df[\"stab_conc_uM\"].unique())\n",
    "print(df[\"stab_name\"].unique())\n",
    "print(df[\"mt_conc_uM\"].unique())\n",
    "print(df[\"actin_conc_uM\"].unique())\n",
    "print(df[\"time_PT\"].unique())"
   ]
  },
  {
   "cell_type": "code",
   "execution_count": 11,
   "id": "81af8fcf",
   "metadata": {},
   "outputs": [],
   "source": [
    "df.to_csv(\"data.csv\", index=False)"
   ]
  },
  {
   "cell_type": "code",
   "execution_count": null,
   "id": "1909b185",
   "metadata": {},
   "outputs": [],
   "source": []
  }
 ],
 "metadata": {
  "kernelspec": {
   "display_name": "cluster",
   "language": "python",
   "name": "python3"
  },
  "language_info": {
   "codemirror_mode": {
    "name": "ipython",
    "version": 3
   },
   "file_extension": ".py",
   "mimetype": "text/x-python",
   "name": "python",
   "nbconvert_exporter": "python",
   "pygments_lexer": "ipython3",
   "version": "3.12.11"
  }
 },
 "nbformat": 4,
 "nbformat_minor": 5
}
